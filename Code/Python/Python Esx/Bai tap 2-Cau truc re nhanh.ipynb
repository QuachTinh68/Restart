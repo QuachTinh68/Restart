{
 "cells": [
  {
   "cell_type": "markdown",
   "metadata": {},
   "source": [
    "# BÀI TẬP"
   ]
  },
  {
   "cell_type": "markdown",
   "metadata": {},
   "source": [
    "### Câu 1. (Giải ptb2) Nhập vào 3 số a,b,c (a khác 0). Giải ptb2 ax^2+bx+c=0\n",
    "### Câu 2. (Phân loại tam giác) Nhập vào 3 số nguyên dương a,b,c. Kiểm tra xem a,b,c có phải là 3 cạnh của 1 tam giác hay không? Nếu phải thì tam giác đó thuộc tam giác nào dưới đây: tam giác cân, tam giác đều, tam giác vuông, tam giác thường."
   ]
  },
  {
   "cell_type": "code",
   "execution_count": null,
   "metadata": {},
   "outputs": [],
   "source": [
    "\n",
    "\n",
    "\n",
    "\n",
    "\n",
    "\n",
    "\n",
    "\n",
    "\n",
    "\n",
    "\n",
    "\n",
    "\n",
    "\n",
    "\n",
    "\n",
    "\n",
    "\n",
    "\n",
    "\n",
    "\n"
   ]
  },
  {
   "cell_type": "markdown",
   "metadata": {},
   "source": [
    "Câu 1. (Giải ptb2) Nhập vào 3 số a,b,c (a khác 0). Giải ptb2 ax^2+bx+c=0"
   ]
  },
  {
   "cell_type": "code",
   "execution_count": null,
   "metadata": {},
   "outputs": [],
   "source": []
  },
  {
   "cell_type": "markdown",
   "metadata": {},
   "source": [
    "Câu 2. (Phân loại tam giác) Nhập vào 3 số nguyên dương a,b,c. Kiểm tra xem a,b,c có phải là 3 cạnh của 1 tam giác hay không? \n",
    "Nếu phải thì tam giác đó thuộc tam giác nào dưới đây: tam giác cân, tam giác đều, tam giác vuông, tam giác thường. \n"
   ]
  },
  {
   "cell_type": "code",
   "execution_count": null,
   "metadata": {},
   "outputs": [],
   "source": []
  },
  {
   "cell_type": "code",
   "execution_count": null,
   "metadata": {},
   "outputs": [],
   "source": []
  }
 ],
 "metadata": {
  "kernelspec": {
   "display_name": "Python 3",
   "language": "python",
   "name": "python3"
  },
  "language_info": {
   "codemirror_mode": {
    "name": "ipython",
    "version": 3
   },
   "file_extension": ".py",
   "mimetype": "text/x-python",
   "name": "python",
   "nbconvert_exporter": "python",
   "pygments_lexer": "ipython3",
   "version": "3.8.5"
  }
 },
 "nbformat": 4,
 "nbformat_minor": 5
}
